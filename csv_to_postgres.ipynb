{
 "cells": [
  {
   "cell_type": "markdown",
   "metadata": {},
   "source": [
    "Project 2\n",
    "Michael Bell\n",
    "Rob Chesser\n",
    "Adam Durar"
   ]
  },
  {
   "cell_type": "code",
   "execution_count": 14,
   "metadata": {},
   "outputs": [],
   "source": [
    "import pandas as pd\n",
    "import numpy as np\n",
    "import os\n",
    "import glob\n",
    "from sqlalchemy import create_engine\n",
    "from sqlalchemy_utils import database_exists, create_database\n",
    "#pip install sqlalchemy-utils for the above"
   ]
  },
  {
   "cell_type": "markdown",
   "metadata": {},
   "source": [
    "Get list of CSV's from each data set"
   ]
  },
  {
   "cell_type": "code",
   "execution_count": 15,
   "metadata": {},
   "outputs": [
    {
     "data": {
      "text/plain": [
       "[             date    adj_open   adj_close symbol\n",
       " 0      2020-01-14  128.620000  128.800000    AXP\n",
       " 1      2020-01-13  127.840000  128.540000    AXP\n",
       " 2      2020-01-10  127.580000  127.280000    AXP\n",
       " 3      2020-01-09  126.490000  127.810000    AXP\n",
       " 4      2020-01-08  124.050000  125.540000    AXP\n",
       " ...           ...         ...         ...    ...\n",
       " 12005  1972-06-07    1.855899    1.855899    AXP\n",
       " 12006  1972-06-06    1.878225    1.878225    AXP\n",
       " 12007  1972-06-05    1.984539    1.984539    AXP\n",
       " 12008  1972-06-02    2.024230    2.024230    AXP\n",
       " 12009  1972-06-01    2.033444    2.033444    AXP\n",
       " \n",
       " [12010 rows x 4 columns],              date    adj_open   adj_close symbol\n",
       " 0      2020-01-14  147.450000  146.680000    CAT\n",
       " 1      2020-01-13  146.530000  146.820000    CAT\n",
       " 2      2020-01-10  147.450000  146.130000    CAT\n",
       " 3      2020-01-09  147.810000  147.310000    CAT\n",
       " 4      2020-01-08  146.830000  147.680000    CAT\n",
       " ...           ...         ...         ...    ...\n",
       " 14604  1962-01-08    1.569701    1.579451    CAT\n",
       " 14605  1962-01-05    1.555272    1.569701    CAT\n",
       " 14606  1962-01-04    1.550202    1.555272    CAT\n",
       " 14607  1962-01-03    1.501454    1.515883    CAT\n",
       " 14608  1962-01-02    1.501454    1.501454    CAT\n",
       " \n",
       " [14609 rows x 4 columns],              date    adj_open   adj_close symbol\n",
       " 0      2020-01-14  143.410000  145.200000    DIS\n",
       " 1      2020-01-13  144.750000  143.880000    DIS\n",
       " 2      2020-01-10  145.300000  144.620000    DIS\n",
       " 3      2020-01-09  146.470000  144.830000    DIS\n",
       " 4      2020-01-08  145.490000  145.400000    DIS\n",
       " ...           ...         ...         ...    ...\n",
       " 14604  1962-01-08    0.138569    0.138094    DIS\n",
       " 14605  1962-01-05    0.138094    0.138569    DIS\n",
       " 14606  1962-01-04    0.138094    0.138094    DIS\n",
       " 14607  1962-01-03    0.136265    0.138094    DIS\n",
       " 14608  1962-01-02    0.136265    0.136265    DIS\n",
       " \n",
       " [14609 rows x 4 columns],             date    adj_open   adj_close symbol\n",
       " 0     2020-01-14  222.480000  222.810000     HD\n",
       " 1     2020-01-13  224.500000  223.340000     HD\n",
       " 2     2020-01-10  224.750000  224.220000     HD\n",
       " 3     2020-01-09  222.640000  225.190000     HD\n",
       " 4     2020-01-08  218.800000  221.790000     HD\n",
       " ...          ...         ...         ...    ...\n",
       " 9656  1981-09-28    0.019438    0.019438     HD\n",
       " 9657  1981-09-25    0.019438    0.019438     HD\n",
       " 9658  1981-09-24    0.019438    0.019438     HD\n",
       " 9659  1981-09-23    0.019438    0.019438     HD\n",
       " 9660  1981-09-22    0.019438    0.019438     HD\n",
       " \n",
       " [9661 rows x 4 columns],              date    adj_open   adj_close symbol\n",
       " 0      2020-01-14  136.280000  135.820000    IBM\n",
       " 1      2020-01-13  135.480000  136.600000    IBM\n",
       " 2      2020-01-10  137.000000  136.690000    IBM\n",
       " 3      2020-01-09  135.740000  136.740000    IBM\n",
       " 4      2020-01-08  134.510000  135.310000    IBM\n",
       " ...           ...         ...         ...    ...\n",
       " 14604  1962-01-08   13.480537   13.239598    IBM\n",
       " 14605  1962-01-05   13.745570   13.492584    IBM\n",
       " 14606  1962-01-04   13.902180   13.763640    IBM\n",
       " 14607  1962-01-03   13.781711   13.902180    IBM\n",
       " 14608  1962-01-02   13.938321   13.781711    IBM\n",
       " \n",
       " [14609 rows x 4 columns],              date   adj_open  adj_close symbol\n",
       " 0      2020-01-14  59.490000  59.430000   INTC\n",
       " 1      2020-01-13  59.106000  59.590000   INTC\n",
       " 2      2020-01-10  59.570000  58.940000   INTC\n",
       " 3      2020-01-09  59.050000  59.300000   INTC\n",
       " 4      2020-01-08  58.890000  58.970000   INTC\n",
       " ...           ...        ...        ...    ...\n",
       " 10039  1980-03-21   0.204116   0.200824   INTC\n",
       " 10040  1980-03-20   0.209055   0.208232   INTC\n",
       " 10041  1980-03-19   0.209055   0.209055   INTC\n",
       " 10042  1980-03-18   0.205762   0.204116   INTC\n",
       " 10043  1980-03-17   0.205762   0.205762   INTC\n",
       " \n",
       " [10044 rows x 4 columns],              date    adj_open   adj_close symbol\n",
       " 0      2020-01-14  145.050000  146.520000    JNJ\n",
       " 1      2020-01-13  145.480000  145.700000    JNJ\n",
       " 2      2020-01-10  145.750000  145.060000    JNJ\n",
       " 3      2020-01-09  145.760000  145.390000    JNJ\n",
       " 4      2020-01-08  144.870000  144.960000    JNJ\n",
       " ...           ...         ...         ...    ...\n",
       " 12617  1970-01-08    0.425602    0.428663    JNJ\n",
       " 12618  1970-01-07    0.427439    0.425602    JNJ\n",
       " 12619  1970-01-06    0.419478    0.427439    JNJ\n",
       " 12620  1970-01-05    0.429888    0.419478    JNJ\n",
       " 12621  1970-01-02    0.440911    0.429888    JNJ\n",
       " \n",
       " [12622 rows x 4 columns],             date    adj_open   adj_close symbol\n",
       " 0     2020-01-14  137.940000  138.800000    JPM\n",
       " 1     2020-01-13  136.190000  137.200000    JPM\n",
       " 2     2020-01-10  137.210000  136.070000    JPM\n",
       " 3     2020-01-09  138.050000  137.440000    JPM\n",
       " 4     2020-01-08  135.700000  136.940000    JPM\n",
       " ...          ...         ...         ...    ...\n",
       " 9080  1984-01-06    3.085693    3.085693    JPM\n",
       " 9081  1984-01-05    3.081085    3.118603    JPM\n",
       " 9082  1984-01-04    2.951418    3.019213    JPM\n",
       " 9083  1984-01-03    2.892179    2.896128    JPM\n",
       " 9084  1983-12-30    2.896128    2.896128    JPM\n",
       " \n",
       " [9085 rows x 4 columns],              date   adj_open  adj_close symbol\n",
       " 0      2020-01-14  56.240000  56.000000     KO\n",
       " 1      2020-01-13  55.530000  56.130000     KO\n",
       " 2      2020-01-10  55.480000  55.530000     KO\n",
       " 3      2020-01-09  55.000000  55.340000     KO\n",
       " 4      2020-01-08  54.270000  54.350000     KO\n",
       " ...           ...        ...        ...    ...\n",
       " 14604  1962-01-08   0.058470   0.058318     KO\n",
       " 14605  1962-01-05   0.060287   0.058924     KO\n",
       " 14606  1962-01-04   0.059984   0.060287     KO\n",
       " 14607  1962-01-03   0.060287   0.059833     KO\n",
       " 14608  1962-01-02   0.061196   0.061196     KO\n",
       " \n",
       " [14609 rows x 4 columns],              date    adj_open   adj_close symbol\n",
       " 0      2020-01-14  205.460000  207.320000    MCD\n",
       " 1      2020-01-13  207.380000  206.510000    MCD\n",
       " 2      2020-01-10  208.440000  207.270000    MCD\n",
       " 3      2020-01-09  206.860000  208.350000    MCD\n",
       " 4      2020-01-08  202.620000  205.910000    MCD\n",
       " ...           ...         ...         ...    ...\n",
       " 12617  1970-01-08    0.200769    0.200769    MCD\n",
       " 12618  1970-01-07    0.201885    0.200769    MCD\n",
       " 12619  1970-01-06    0.200769    0.201885    MCD\n",
       " 12620  1970-01-05    0.197423    0.200769    MCD\n",
       " 12621  1970-01-02    0.191846    0.197423    MCD\n",
       " \n",
       " [12622 rows x 4 columns],              date    adj_open   adj_close symbol\n",
       " 0      2020-01-14  180.920000  181.370000    MMM\n",
       " 1      2020-01-13  180.940000  180.920000    MMM\n",
       " 2      2020-01-10  181.610000  180.470000    MMM\n",
       " 3      2020-01-09  181.510000  181.200000    MMM\n",
       " 4      2020-01-08  178.000000  180.630000    MMM\n",
       " ...           ...         ...         ...    ...\n",
       " 12617  1970-01-08    2.803947    2.841500    MMM\n",
       " 12618  1970-01-07    2.788425    2.803947    MMM\n",
       " 12619  1970-01-06    2.760135    2.788425    MMM\n",
       " 12620  1970-01-05    2.747618    2.760135    MMM\n",
       " 12621  1970-01-02    2.744363    2.744363    MMM\n",
       " \n",
       " [12622 rows x 4 columns],              date   adj_open  adj_close symbol\n",
       " 0      2020-01-14  89.270000  89.930000    MRK\n",
       " 1      2020-01-13  89.520000  89.510000    MRK\n",
       " 2      2020-01-10  89.720000  89.530000    MRK\n",
       " 3      2020-01-09  88.950000  89.380000    MRK\n",
       " 4      2020-01-08  89.090000  88.600000    MRK\n",
       " ...           ...        ...        ...    ...\n",
       " 12617  1970-01-08   0.552569   0.555063    MRK\n",
       " 12618  1970-01-07   0.556311   0.551321    MRK\n",
       " 12619  1970-01-06   0.551970   0.556311    MRK\n",
       " 12620  1970-01-05   0.555063   0.551970    MRK\n",
       " 12621  1970-01-02   0.562547   0.555063    MRK\n",
       " \n",
       " [12622 rows x 4 columns],             date    adj_open   adj_close symbol\n",
       " 0     2020-01-14  163.390000  162.130000   MSFT\n",
       " 1     2020-01-13  161.760000  163.280000   MSFT\n",
       " 2     2020-01-10  162.823500  161.340000   MSFT\n",
       " 3     2020-01-09  161.835000  162.090000   MSFT\n",
       " 4     2020-01-08  158.930000  160.090000   MSFT\n",
       " ...          ...         ...         ...    ...\n",
       " 8525  1986-03-19    0.064585    0.063462   MSFT\n",
       " 8526  1986-03-18    0.066270    0.064585   MSFT\n",
       " 8527  1986-03-17    0.065146    0.066270   MSFT\n",
       " 8528  1986-03-14    0.062900    0.065146   MSFT\n",
       " 8529  1986-03-13    0.057284    0.062900   MSFT\n",
       " \n",
       " [8530 rows x 4 columns],              date    adj_open   adj_close symbol\n",
       " 0      2020-01-14  124.650000  124.690000     PG\n",
       " 1      2020-01-13  124.000000  124.880000     PG\n",
       " 2      2020-01-10  123.900000  123.970000     PG\n",
       " 3      2020-01-09  122.510000  123.850000     PG\n",
       " 4      2020-01-08  122.190000  122.510000     PG\n",
       " ...           ...         ...         ...    ...\n",
       " 12617  1970-01-08    0.761993    0.770517     PG\n",
       " 12618  1970-01-07    0.751765    0.761993     PG\n",
       " 12619  1970-01-06    0.751765    0.750061     PG\n",
       " 12620  1970-01-05    0.750061    0.753470     PG\n",
       " 12621  1970-01-02    0.746651    0.750061     PG\n",
       " \n",
       " [12622 rows x 4 columns],              date    adj_open   adj_close symbol\n",
       " 0      2020-01-14  151.370000  151.540000    UTX\n",
       " 1      2020-01-13  152.020000  152.050000    UTX\n",
       " 2      2020-01-10  154.010000  151.860000    UTX\n",
       " 3      2020-01-09  153.800000  153.650000    UTX\n",
       " 4      2020-01-08  153.120000  153.420000    UTX\n",
       " ...           ...         ...         ...    ...\n",
       " 12617  1970-01-08    0.586254    0.582543    UTX\n",
       " 12618  1970-01-07    0.593675    0.586254    UTX\n",
       " 12619  1970-01-06    0.595604    0.593675    UTX\n",
       " 12620  1970-01-05    0.597385    0.595604    UTX\n",
       " 12621  1970-01-02    0.586254    0.597385    UTX\n",
       " \n",
       " [12622 rows x 4 columns],              date    adj_open   adj_close symbol\n",
       " 0      2020-01-14  115.470000  116.180000    WMT\n",
       " 1      2020-01-13  116.380000  115.880000    WMT\n",
       " 2      2020-01-10  117.240000  116.380000    WMT\n",
       " 3      2020-01-09  116.150000  117.360000    WMT\n",
       " 4      2020-01-08  116.300000  116.160000    WMT\n",
       " ...           ...         ...         ...    ...\n",
       " 11945  1972-08-31    0.040793    0.040476    WMT\n",
       " 11946  1972-08-30    0.041109    0.041109    WMT\n",
       " 11947  1972-08-29    0.041425    0.041109    WMT\n",
       " 11948  1972-08-28    0.041741    0.041589    WMT\n",
       " 11949  1972-08-25    0.041109    0.041741    WMT\n",
       " \n",
       " [11950 rows x 4 columns],              date   adj_open  adj_close symbol\n",
       " 0      2020-01-14  69.380000  69.200000    XOM\n",
       " 1      2020-01-13  69.200000  69.800000    XOM\n",
       " 2      2020-01-10  69.930000  69.140000    XOM\n",
       " 3      2020-01-09  69.140000  69.760000    XOM\n",
       " 4      2020-01-08  70.110000  69.230000    XOM\n",
       " ...           ...        ...        ...    ...\n",
       " 12617  1970-01-08   0.686974   0.688293    XOM\n",
       " 12618  1970-01-07   0.691041   0.686974    XOM\n",
       " 12619  1970-01-06   0.692470   0.691041    XOM\n",
       " 12620  1970-01-05   0.681478   0.692470    XOM\n",
       " 12621  1970-01-02   0.678730   0.681478    XOM\n",
       " \n",
       " [12622 rows x 4 columns]]"
      ]
     },
     "execution_count": 15,
     "metadata": {},
     "output_type": "execute_result"
    }
   ],
   "source": [
    "path = './quandl_csv_2019'\n",
    "all_files = glob.glob(os.path.join(path, \"*.csv\"))\n",
    "\n",
    "li = []\n",
    "\n",
    "for filename in all_files:\n",
    "    fn, ext = os.path.splitext(os.path.basename(filename))\n",
    "    df = pd.read_csv(filename, index_col=None, header=0)\n",
    "    df = df[['Date','Adj_Open','Adj_Close']]\n",
    "    df = df.rename(columns={\"Date\": \"date\", \"Adj_Open\": \"adj_open\", \"Adj_Close\": \"adj_close\"})\n",
    "    df['symbol'] = fn\n",
    "    li.append(df)\n",
    "li"
   ]
  },
  {
   "cell_type": "markdown",
   "metadata": {},
   "source": [
    "Flatten DF Lists into DF"
   ]
  },
  {
   "cell_type": "code",
   "execution_count": 16,
   "metadata": {},
   "outputs": [
    {
     "data": {
      "text/html": [
       "<div>\n",
       "<style scoped>\n",
       "    .dataframe tbody tr th:only-of-type {\n",
       "        vertical-align: middle;\n",
       "    }\n",
       "\n",
       "    .dataframe tbody tr th {\n",
       "        vertical-align: top;\n",
       "    }\n",
       "\n",
       "    .dataframe thead th {\n",
       "        text-align: right;\n",
       "    }\n",
       "</style>\n",
       "<table border=\"1\" class=\"dataframe\">\n",
       "  <thead>\n",
       "    <tr style=\"text-align: right;\">\n",
       "      <th></th>\n",
       "      <th>date</th>\n",
       "      <th>adj_open</th>\n",
       "      <th>adj_close</th>\n",
       "      <th>symbol</th>\n",
       "    </tr>\n",
       "  </thead>\n",
       "  <tbody>\n",
       "    <tr>\n",
       "      <td>0</td>\n",
       "      <td>2020-01-14</td>\n",
       "      <td>128.62</td>\n",
       "      <td>128.80</td>\n",
       "      <td>AXP</td>\n",
       "    </tr>\n",
       "    <tr>\n",
       "      <td>1</td>\n",
       "      <td>2020-01-13</td>\n",
       "      <td>127.84</td>\n",
       "      <td>128.54</td>\n",
       "      <td>AXP</td>\n",
       "    </tr>\n",
       "    <tr>\n",
       "      <td>2</td>\n",
       "      <td>2020-01-10</td>\n",
       "      <td>127.58</td>\n",
       "      <td>127.28</td>\n",
       "      <td>AXP</td>\n",
       "    </tr>\n",
       "    <tr>\n",
       "      <td>3</td>\n",
       "      <td>2020-01-09</td>\n",
       "      <td>126.49</td>\n",
       "      <td>127.81</td>\n",
       "      <td>AXP</td>\n",
       "    </tr>\n",
       "    <tr>\n",
       "      <td>4</td>\n",
       "      <td>2020-01-08</td>\n",
       "      <td>124.05</td>\n",
       "      <td>125.54</td>\n",
       "      <td>AXP</td>\n",
       "    </tr>\n",
       "  </tbody>\n",
       "</table>\n",
       "</div>"
      ],
      "text/plain": [
       "        date  adj_open  adj_close symbol\n",
       "0 2020-01-14    128.62     128.80    AXP\n",
       "1 2020-01-13    127.84     128.54    AXP\n",
       "2 2020-01-10    127.58     127.28    AXP\n",
       "3 2020-01-09    126.49     127.81    AXP\n",
       "4 2020-01-08    124.05     125.54    AXP"
      ]
     },
     "execution_count": 16,
     "metadata": {},
     "output_type": "execute_result"
    }
   ],
   "source": [
    "djdata = pd.concat(li, axis=0, ignore_index=True)\n",
    "djdata['date'] = djdata['date'].astype('datetime64[ns]') #convert to date\n",
    "djdata.head()"
   ]
  },
  {
   "cell_type": "markdown",
   "metadata": {},
   "source": [
    "Print Row/Col counts"
   ]
  },
  {
   "cell_type": "code",
   "execution_count": 17,
   "metadata": {},
   "outputs": [
    {
     "name": "stdout",
     "output_type": "stream",
     "text": [
      "(208070, 4)\n"
     ]
    }
   ],
   "source": [
    "print(djdata.shape)"
   ]
  },
  {
   "cell_type": "markdown",
   "metadata": {},
   "source": [
    "Connect to database or create if it doesn't exist"
   ]
  },
  {
   "cell_type": "code",
   "execution_count": 19,
   "metadata": {},
   "outputs": [],
   "source": [
    "connection_string = \"postgres:1217Eer4$@localhost:5432/tbm\"\n",
    "engine = create_engine(f'postgresql://{connection_string}')\n",
    "if not database_exists(engine.url):  #pip install sqlalchemy-utils\n",
    "    create_database(engine.url)"
   ]
  },
  {
   "cell_type": "markdown",
   "metadata": {},
   "source": [
    "Drop table if it exists"
   ]
  },
  {
   "cell_type": "code",
   "execution_count": 20,
   "metadata": {},
   "outputs": [
    {
     "data": {
      "text/plain": [
       "<sqlalchemy.engine.result.ResultProxy at 0x22f82b0f108>"
      ]
     },
     "execution_count": 20,
     "metadata": {},
     "output_type": "execute_result"
    }
   ],
   "source": [
    "engine.execute('DROP TABLE if exists \"stock_data_2019\"')"
   ]
  },
  {
   "cell_type": "markdown",
   "metadata": {},
   "source": [
    "Check to be sure the table is dropped"
   ]
  },
  {
   "cell_type": "code",
   "execution_count": 21,
   "metadata": {},
   "outputs": [
    {
     "data": {
      "text/plain": [
       "['stock_data']"
      ]
     },
     "execution_count": 21,
     "metadata": {},
     "output_type": "execute_result"
    }
   ],
   "source": [
    "engine.table_names()"
   ]
  },
  {
   "cell_type": "markdown",
   "metadata": {},
   "source": [
    "Create fresh table"
   ]
  },
  {
   "cell_type": "code",
   "execution_count": 22,
   "metadata": {},
   "outputs": [],
   "source": [
    "from sqlalchemy import Table, Column, Integer, String, MetaData, Float, Date, ForeignKey\n",
    "\n",
    "metadata = MetaData()\n",
    "sdata = Table('stock_data', metadata,\n",
    "    Column('id', Integer, primary_key=True),\n",
    "    Column('date', Date),\n",
    "    Column('adj_open', Float),\n",
    "    Column('adj_close', Float),\n",
    "    Column('symbol', String),\n",
    "    Column('end_val', Float),\n",
    ")\n",
    "\n",
    "metadata.create_all(engine)\n"
   ]
  },
  {
   "cell_type": "markdown",
   "metadata": {},
   "source": [
    "Check if table is created"
   ]
  },
  {
   "cell_type": "code",
   "execution_count": 23,
   "metadata": {},
   "outputs": [
    {
     "data": {
      "text/plain": [
       "['stock_data']"
      ]
     },
     "execution_count": 23,
     "metadata": {},
     "output_type": "execute_result"
    }
   ],
   "source": [
    "engine.table_names()"
   ]
  },
  {
   "cell_type": "markdown",
   "metadata": {},
   "source": [
    "Set the index to the id field and reset the index count after concat"
   ]
  },
  {
   "cell_type": "code",
   "execution_count": 24,
   "metadata": {},
   "outputs": [
    {
     "data": {
      "text/plain": [
       "Index(['date', 'adj_open', 'adj_close', 'symbol'], dtype='object')"
      ]
     },
     "execution_count": 24,
     "metadata": {},
     "output_type": "execute_result"
    }
   ],
   "source": [
    "djdata.index.name = 'id'\n",
    "djdata.reset_index()\n",
    "djdata.head()\n",
    "djdata.columns"
   ]
  },
  {
   "cell_type": "code",
   "execution_count": 25,
   "metadata": {},
   "outputs": [
    {
     "name": "stderr",
     "output_type": "stream",
     "text": [
      "C:\\Users\\Michael Bell\\Anaconda3\\lib\\site-packages\\ipykernel_launcher.py:22: FutureWarning: Comparing Series of datetimes with 'datetime.date'.  Currently, the\n",
      "'datetime.date' is coerced to a datetime. In the future pandas will\n",
      "not coerce, and 'the values will not compare equal to the\n",
      "'datetime.date'. To retain the current behavior, convert the\n",
      "'datetime.date' to a datetime with 'pd.Timestamp'.\n",
      "C:\\Users\\Michael Bell\\Anaconda3\\lib\\site-packages\\ipykernel_launcher.py:23: FutureWarning: Comparing Series of datetimes with 'datetime.date'.  Currently, the\n",
      "'datetime.date' is coerced to a datetime. In the future pandas will\n",
      "not coerce, and 'the values will not compare equal to the\n",
      "'datetime.date'. To retain the current behavior, convert the\n",
      "'datetime.date' to a datetime with 'pd.Timestamp'.\n",
      "C:\\Users\\Michael Bell\\Anaconda3\\lib\\site-packages\\ipykernel_launcher.py:29: SettingWithCopyWarning: \n",
      "A value is trying to be set on a copy of a slice from a DataFrame.\n",
      "Try using .loc[row_indexer,col_indexer] = value instead\n",
      "\n",
      "See the caveats in the documentation: http://pandas.pydata.org/pandas-docs/stable/user_guide/indexing.html#returning-a-view-versus-a-copy\n",
      "C:\\Users\\Michael Bell\\Anaconda3\\lib\\site-packages\\ipykernel_launcher.py:30: SettingWithCopyWarning: \n",
      "A value is trying to be set on a copy of a slice from a DataFrame.\n",
      "Try using .loc[row_indexer,col_indexer] = value instead\n",
      "\n",
      "See the caveats in the documentation: http://pandas.pydata.org/pandas-docs/stable/user_guide/indexing.html#returning-a-view-versus-a-copy\n"
     ]
    },
    {
     "data": {
      "text/html": [
       "<div>\n",
       "<style scoped>\n",
       "    .dataframe tbody tr th:only-of-type {\n",
       "        vertical-align: middle;\n",
       "    }\n",
       "\n",
       "    .dataframe tbody tr th {\n",
       "        vertical-align: top;\n",
       "    }\n",
       "\n",
       "    .dataframe thead th {\n",
       "        text-align: right;\n",
       "    }\n",
       "</style>\n",
       "<table border=\"1\" class=\"dataframe\">\n",
       "  <thead>\n",
       "    <tr style=\"text-align: right;\">\n",
       "      <th></th>\n",
       "      <th>date</th>\n",
       "      <th>adj_open</th>\n",
       "      <th>adj_close</th>\n",
       "      <th>symbol</th>\n",
       "      <th>end_val</th>\n",
       "    </tr>\n",
       "    <tr>\n",
       "      <th>id</th>\n",
       "      <th></th>\n",
       "      <th></th>\n",
       "      <th></th>\n",
       "      <th></th>\n",
       "      <th></th>\n",
       "    </tr>\n",
       "  </thead>\n",
       "  <tbody>\n",
       "    <tr>\n",
       "      <td>0</td>\n",
       "      <td>2020-01-02</td>\n",
       "      <td>124.660000</td>\n",
       "      <td>125.850000</td>\n",
       "      <td>AXP</td>\n",
       "      <td>0.033210</td>\n",
       "    </tr>\n",
       "    <tr>\n",
       "      <td>1</td>\n",
       "      <td>2020-01-14</td>\n",
       "      <td>128.620000</td>\n",
       "      <td>128.800000</td>\n",
       "      <td>AXP</td>\n",
       "      <td>0.033210</td>\n",
       "    </tr>\n",
       "    <tr>\n",
       "      <td>2</td>\n",
       "      <td>2019-01-02</td>\n",
       "      <td>92.232993</td>\n",
       "      <td>93.971385</td>\n",
       "      <td>AXP</td>\n",
       "      <td>0.345138</td>\n",
       "    </tr>\n",
       "    <tr>\n",
       "      <td>3</td>\n",
       "      <td>2019-12-31</td>\n",
       "      <td>123.866776</td>\n",
       "      <td>124.066095</td>\n",
       "      <td>AXP</td>\n",
       "      <td>0.345138</td>\n",
       "    </tr>\n",
       "    <tr>\n",
       "      <td>4</td>\n",
       "      <td>2018-01-02</td>\n",
       "      <td>96.555237</td>\n",
       "      <td>95.790385</td>\n",
       "      <td>AXP</td>\n",
       "      <td>-0.030422</td>\n",
       "    </tr>\n",
       "  </tbody>\n",
       "</table>\n",
       "</div>"
      ],
      "text/plain": [
       "         date    adj_open   adj_close symbol   end_val\n",
       "id                                                    \n",
       "0  2020-01-02  124.660000  125.850000    AXP  0.033210\n",
       "1  2020-01-14  128.620000  128.800000    AXP  0.033210\n",
       "2  2019-01-02   92.232993   93.971385    AXP  0.345138\n",
       "3  2019-12-31  123.866776  124.066095    AXP  0.345138\n",
       "4  2018-01-02   96.555237   95.790385    AXP -0.030422"
      ]
     },
     "execution_count": 25,
     "metadata": {},
     "output_type": "execute_result"
    }
   ],
   "source": [
    "djdata2 = pd.DataFrame()\n",
    "djdata2 = djdata\n",
    "\n",
    "yrs = []\n",
    "syms = []\n",
    "for yr in djdata2['date'].dt.year:\n",
    "    if yr not in yrs and yr >= 2000:\n",
    "        yrs.append(yr) \n",
    "#print(yrs)\n",
    "for sym in djdata2['symbol']:\n",
    "    if sym not in syms:\n",
    "        syms.append(sym)\n",
    "\n",
    "li2 = []\n",
    "for sym in syms:\n",
    "    ticker_all = djdata2[djdata['symbol'] == sym]\n",
    "    for yr in yrs:\n",
    "        ticker_yr = ticker_all[ticker_all['date'].dt.year == yr] \n",
    "        min_dt = min(ticker_yr['date'])\n",
    "        max_dt = max(ticker_yr['date'])\n",
    "        ticker_yr['date'].dtypes\n",
    "        ticker_min = ticker_yr[ticker_yr['date'] == min_dt.date()]\n",
    "        ticker_max = ticker_yr[ticker_yr['date'] == max_dt.date()]\n",
    "        ao_min = list(ticker_min['adj_open'])[0]\n",
    "        ac_min = list(ticker_min['adj_close'])[0]\n",
    "        ao_max = list(ticker_max['adj_open'])[0]\n",
    "        ac_max = list(ticker_max['adj_close'])[0]\n",
    "        #((Close: Last Trading Day of the Year) - (Open: First Trading Day of the Year))/(Open: First Trading Day of the Year)\n",
    "        ticker_min['end_val'] = ((ac_max-ao_min)/ao_min)\n",
    "        ticker_max['end_val'] = ((ac_max-ao_min)/ao_min)\n",
    "        df_min = pd.DataFrame(ticker_min, columns =['date', 'adj_open', 'adj_close', 'symbol','end_val'])\n",
    "        df_max = pd.DataFrame(ticker_max, columns =['date', 'adj_open', 'adj_close', 'symbol','end_val'])\n",
    "        li2.append(df_min)\n",
    "        li2.append(df_max)\n",
    "\n",
    "df_all = pd.concat(li2, axis=0, ignore_index=True)\n",
    "\n",
    "df_all.index.name = 'id'\n",
    "df_all.reset_index()\n",
    "        \n",
    "df_all.head()\n",
    "        \n",
    "        "
   ]
  },
  {
   "cell_type": "markdown",
   "metadata": {},
   "source": [
    "Insert data into Postgres"
   ]
  },
  {
   "cell_type": "code",
   "execution_count": 26,
   "metadata": {},
   "outputs": [],
   "source": [
    "df_all.to_sql(name='stock_data_2019', con=engine, if_exists='append', index=True)"
   ]
  },
  {
   "cell_type": "markdown",
   "metadata": {},
   "source": [
    "Show sample data"
   ]
  },
  {
   "cell_type": "code",
   "execution_count": 27,
   "metadata": {},
   "outputs": [
    {
     "data": {
      "text/plain": [
       "[(0, datetime.datetime(2020, 1, 2, 0, 0), 124.66, 125.85, 'AXP', 0.0332103321033212),\n",
       " (1, datetime.datetime(2020, 1, 14, 0, 0), 128.62, 128.8, 'AXP', 0.0332103321033212),\n",
       " (2, datetime.datetime(2019, 1, 2, 0, 0), 92.2329927679586, 93.9713848156563, 'AXP', 0.34513791065449),\n",
       " (3, datetime.datetime(2019, 12, 31, 0, 0), 123.866776211593, 124.066095185302, 'AXP', 0.34513791065449),\n",
       " (4, datetime.datetime(2018, 1, 2, 0, 0), 96.5552365653005, 95.7903850974715, 'AXP', -0.0304222030629708)]"
      ]
     },
     "execution_count": 27,
     "metadata": {},
     "output_type": "execute_result"
    }
   ],
   "source": [
    "engine.execute('SELECT * FROM stock_data_2019 LIMIT 5').fetchall()"
   ]
  },
  {
   "cell_type": "markdown",
   "metadata": {},
   "source": [
    "Check row counts"
   ]
  },
  {
   "cell_type": "code",
   "execution_count": 28,
   "metadata": {},
   "outputs": [
    {
     "data": {
      "text/plain": [
       "[(714,)]"
      ]
     },
     "execution_count": 28,
     "metadata": {},
     "output_type": "execute_result"
    }
   ],
   "source": [
    "engine.execute('SELECT count(*) FROM stock_data_2019').fetchall()"
   ]
  }
 ],
 "metadata": {
  "kernelspec": {
   "display_name": "Python 3",
   "language": "python",
   "name": "python3"
  },
  "language_info": {
   "codemirror_mode": {
    "name": "ipython",
    "version": 3
   },
   "file_extension": ".py",
   "mimetype": "text/x-python",
   "name": "python",
   "nbconvert_exporter": "python",
   "pygments_lexer": "ipython3",
   "version": "3.7.4"
  }
 },
 "nbformat": 4,
 "nbformat_minor": 2
}
